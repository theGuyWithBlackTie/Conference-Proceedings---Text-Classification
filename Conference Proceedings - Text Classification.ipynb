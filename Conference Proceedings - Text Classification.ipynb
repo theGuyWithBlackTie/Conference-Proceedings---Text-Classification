{
 "cells": [
  {
   "cell_type": "markdown",
   "metadata": {},
   "source": [
    "## Import Section"
   ]
  },
  {
   "cell_type": "code",
   "execution_count": 1,
   "metadata": {},
   "outputs": [],
   "source": [
    "import torch\n",
    "import pandas as pd"
   ]
  },
  {
   "cell_type": "markdown",
   "metadata": {},
   "source": [
    "#### Importing Dataset"
   ]
  },
  {
   "cell_type": "code",
   "execution_count": 7,
   "metadata": {},
   "outputs": [
    {
     "data": {
      "text/html": [
       "<div>\n",
       "<style scoped>\n",
       "    .dataframe tbody tr th:only-of-type {\n",
       "        vertical-align: middle;\n",
       "    }\n",
       "\n",
       "    .dataframe tbody tr th {\n",
       "        vertical-align: top;\n",
       "    }\n",
       "\n",
       "    .dataframe thead th {\n",
       "        text-align: right;\n",
       "    }\n",
       "</style>\n",
       "<table border=\"1\" class=\"dataframe\">\n",
       "  <thead>\n",
       "    <tr style=\"text-align: right;\">\n",
       "      <th></th>\n",
       "      <th>Nos</th>\n",
       "      <th>Conf Name</th>\n",
       "      <th>Abstract</th>\n",
       "    </tr>\n",
       "  </thead>\n",
       "  <tbody>\n",
       "    <tr>\n",
       "      <th>0</th>\n",
       "      <td>0</td>\n",
       "      <td>ISCAS</td>\n",
       "      <td>Scalable Serial-parallel Multiplier over GF(2m...</td>\n",
       "    </tr>\n",
       "    <tr>\n",
       "      <th>1</th>\n",
       "      <td>1</td>\n",
       "      <td>SIGGRAPH</td>\n",
       "      <td>Plenoptic sampling.</td>\n",
       "    </tr>\n",
       "    <tr>\n",
       "      <th>2</th>\n",
       "      <td>2</td>\n",
       "      <td>ISCAS</td>\n",
       "      <td>Sensitivity and uniformity of a 0.18micrometer...</td>\n",
       "    </tr>\n",
       "    <tr>\n",
       "      <th>3</th>\n",
       "      <td>3</td>\n",
       "      <td>WWW</td>\n",
       "      <td>A survey of web archive search architectures.</td>\n",
       "    </tr>\n",
       "    <tr>\n",
       "      <th>4</th>\n",
       "      <td>4</td>\n",
       "      <td>ISCAS</td>\n",
       "      <td>Understanding dynamic behavior of mm-wave CML ...</td>\n",
       "    </tr>\n",
       "    <tr>\n",
       "      <th>5</th>\n",
       "      <td>5</td>\n",
       "      <td>SIGGRAPH</td>\n",
       "      <td>Cosine lobe based relighting from gradient ill...</td>\n",
       "    </tr>\n",
       "    <tr>\n",
       "      <th>6</th>\n",
       "      <td>6</td>\n",
       "      <td>INFOCOM</td>\n",
       "      <td>Dimensioning an OBS Switch with Partial Wavele...</td>\n",
       "    </tr>\n",
       "    <tr>\n",
       "      <th>7</th>\n",
       "      <td>7</td>\n",
       "      <td>ISCAS</td>\n",
       "      <td>A study of identifibility for blind source sep...</td>\n",
       "    </tr>\n",
       "    <tr>\n",
       "      <th>8</th>\n",
       "      <td>8</td>\n",
       "      <td>ISCAS</td>\n",
       "      <td>A signal perturbation free semi-blind MRT MIMO...</td>\n",
       "    </tr>\n",
       "    <tr>\n",
       "      <th>9</th>\n",
       "      <td>9</td>\n",
       "      <td>ISCAS</td>\n",
       "      <td>A low-power V-band CMOS low-noise amplifier us...</td>\n",
       "    </tr>\n",
       "  </tbody>\n",
       "</table>\n",
       "</div>"
      ],
      "text/plain": [
       "   Nos Conf Name                                           Abstract\n",
       "0    0     ISCAS  Scalable Serial-parallel Multiplier over GF(2m...\n",
       "1    1  SIGGRAPH                                Plenoptic sampling.\n",
       "2    2     ISCAS  Sensitivity and uniformity of a 0.18micrometer...\n",
       "3    3       WWW      A survey of web archive search architectures.\n",
       "4    4     ISCAS  Understanding dynamic behavior of mm-wave CML ...\n",
       "5    5  SIGGRAPH  Cosine lobe based relighting from gradient ill...\n",
       "6    6   INFOCOM  Dimensioning an OBS Switch with Partial Wavele...\n",
       "7    7     ISCAS  A study of identifibility for blind source sep...\n",
       "8    8     ISCAS  A signal perturbation free semi-blind MRT MIMO...\n",
       "9    9     ISCAS  A low-power V-band CMOS low-noise amplifier us..."
      ]
     },
     "execution_count": 7,
     "metadata": {},
     "output_type": "execute_result"
    }
   ],
   "source": [
    "columnList = ['Nos','Conf Name','Abstract']\n",
    "data = pd.read_csv(\"DBLPTrainset.txt\", names=columnList, sep=\"\\t\")\n",
    "data.head(10)"
   ]
  },
  {
   "cell_type": "markdown",
   "metadata": {},
   "source": [
    "#### Data Exploration"
   ]
  },
  {
   "cell_type": "code",
   "execution_count": 9,
   "metadata": {},
   "outputs": [
    {
     "name": "stdout",
     "output_type": "stream",
     "text": [
      "Total Nos. of Labels ->  5\n"
     ]
    }
   ],
   "source": [
    "print('Total Nos. of Labels -> ',data['Conf Name'].nunique())"
   ]
  },
  {
   "cell_type": "code",
   "execution_count": null,
   "metadata": {},
   "outputs": [],
   "source": []
  }
 ],
 "metadata": {
  "kernelspec": {
   "display_name": "Python 3",
   "language": "python",
   "name": "python3"
  },
  "language_info": {
   "codemirror_mode": {
    "name": "ipython",
    "version": 3
   },
   "file_extension": ".py",
   "mimetype": "text/x-python",
   "name": "python",
   "nbconvert_exporter": "python",
   "pygments_lexer": "ipython3",
   "version": "3.7.6"
  }
 },
 "nbformat": 4,
 "nbformat_minor": 4
}
