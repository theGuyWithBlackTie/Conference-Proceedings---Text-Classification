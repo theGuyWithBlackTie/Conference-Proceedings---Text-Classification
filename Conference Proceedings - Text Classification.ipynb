{
 "cells": [
  {
   "cell_type": "markdown",
   "metadata": {},
   "source": [
    "## Import Section"
   ]
  },
  {
   "cell_type": "code",
   "execution_count": 86,
   "metadata": {},
   "outputs": [],
   "source": [
    "import torch\n",
    "import pandas as pd\n",
    "import keras\n",
    "\n",
    "import nltk\n",
    "from nltk.tokenize import RegexpTokenizer\n",
    "from nltk.stem import WordNetLemmatizer\n",
    "from nltk.corpus import stopwords\n",
    "\n",
    "from keras.preprocessing.text import Tokenizer\n",
    "from keras.preprocessing.sequence import pad_sequences\n",
    "\n",
    "from sklearn.model_selection import train_test_split\n",
    "\n",
    "import seaborn as sns\n",
    "\n",
    "import re\n",
    "\n",
    "pd.set_option('display.max_columns', None)"
   ]
  },
  {
   "cell_type": "markdown",
   "metadata": {},
   "source": [
    "### Importing Dataset"
   ]
  },
  {
   "cell_type": "code",
   "execution_count": 2,
   "metadata": {},
   "outputs": [
    {
     "data": {
      "text/html": [
       "<div>\n",
       "<style scoped>\n",
       "    .dataframe tbody tr th:only-of-type {\n",
       "        vertical-align: middle;\n",
       "    }\n",
       "\n",
       "    .dataframe tbody tr th {\n",
       "        vertical-align: top;\n",
       "    }\n",
       "\n",
       "    .dataframe thead th {\n",
       "        text-align: right;\n",
       "    }\n",
       "</style>\n",
       "<table border=\"1\" class=\"dataframe\">\n",
       "  <thead>\n",
       "    <tr style=\"text-align: right;\">\n",
       "      <th></th>\n",
       "      <th>Nos</th>\n",
       "      <th>Conf Name</th>\n",
       "      <th>Abstract</th>\n",
       "    </tr>\n",
       "  </thead>\n",
       "  <tbody>\n",
       "    <tr>\n",
       "      <th>0</th>\n",
       "      <td>0</td>\n",
       "      <td>ISCAS</td>\n",
       "      <td>Scalable Serial-parallel Multiplier over GF(2m...</td>\n",
       "    </tr>\n",
       "    <tr>\n",
       "      <th>1</th>\n",
       "      <td>1</td>\n",
       "      <td>SIGGRAPH</td>\n",
       "      <td>Plenoptic sampling.</td>\n",
       "    </tr>\n",
       "    <tr>\n",
       "      <th>2</th>\n",
       "      <td>2</td>\n",
       "      <td>ISCAS</td>\n",
       "      <td>Sensitivity and uniformity of a 0.18micrometer...</td>\n",
       "    </tr>\n",
       "    <tr>\n",
       "      <th>3</th>\n",
       "      <td>3</td>\n",
       "      <td>WWW</td>\n",
       "      <td>A survey of web archive search architectures.</td>\n",
       "    </tr>\n",
       "    <tr>\n",
       "      <th>4</th>\n",
       "      <td>4</td>\n",
       "      <td>ISCAS</td>\n",
       "      <td>Understanding dynamic behavior of mm-wave CML ...</td>\n",
       "    </tr>\n",
       "    <tr>\n",
       "      <th>5</th>\n",
       "      <td>5</td>\n",
       "      <td>SIGGRAPH</td>\n",
       "      <td>Cosine lobe based relighting from gradient ill...</td>\n",
       "    </tr>\n",
       "    <tr>\n",
       "      <th>6</th>\n",
       "      <td>6</td>\n",
       "      <td>INFOCOM</td>\n",
       "      <td>Dimensioning an OBS Switch with Partial Wavele...</td>\n",
       "    </tr>\n",
       "    <tr>\n",
       "      <th>7</th>\n",
       "      <td>7</td>\n",
       "      <td>ISCAS</td>\n",
       "      <td>A study of identifibility for blind source sep...</td>\n",
       "    </tr>\n",
       "    <tr>\n",
       "      <th>8</th>\n",
       "      <td>8</td>\n",
       "      <td>ISCAS</td>\n",
       "      <td>A signal perturbation free semi-blind MRT MIMO...</td>\n",
       "    </tr>\n",
       "    <tr>\n",
       "      <th>9</th>\n",
       "      <td>9</td>\n",
       "      <td>ISCAS</td>\n",
       "      <td>A low-power V-band CMOS low-noise amplifier us...</td>\n",
       "    </tr>\n",
       "  </tbody>\n",
       "</table>\n",
       "</div>"
      ],
      "text/plain": [
       "   Nos Conf Name                                           Abstract\n",
       "0    0     ISCAS  Scalable Serial-parallel Multiplier over GF(2m...\n",
       "1    1  SIGGRAPH                                Plenoptic sampling.\n",
       "2    2     ISCAS  Sensitivity and uniformity of a 0.18micrometer...\n",
       "3    3       WWW      A survey of web archive search architectures.\n",
       "4    4     ISCAS  Understanding dynamic behavior of mm-wave CML ...\n",
       "5    5  SIGGRAPH  Cosine lobe based relighting from gradient ill...\n",
       "6    6   INFOCOM  Dimensioning an OBS Switch with Partial Wavele...\n",
       "7    7     ISCAS  A study of identifibility for blind source sep...\n",
       "8    8     ISCAS  A signal perturbation free semi-blind MRT MIMO...\n",
       "9    9     ISCAS  A low-power V-band CMOS low-noise amplifier us..."
      ]
     },
     "execution_count": 2,
     "metadata": {},
     "output_type": "execute_result"
    }
   ],
   "source": [
    "columnList = ['Nos','Conf Name','Abstract']\n",
    "data = pd.read_csv(\"DBLPTrainset.txt\", names=columnList, sep=\"\\t\")\n",
    "data.head(10)"
   ]
  },
  {
   "cell_type": "markdown",
   "metadata": {},
   "source": [
    "### Data Exploration"
   ]
  },
  {
   "cell_type": "code",
   "execution_count": 3,
   "metadata": {},
   "outputs": [
    {
     "name": "stdout",
     "output_type": "stream",
     "text": [
      "List if labels -> ['ISCAS' 'SIGGRAPH' 'WWW' 'INFOCOM' 'VLDB']\n",
      "Crude way of getting nos. of unique labels 5\n"
     ]
    }
   ],
   "source": [
    "#Listing out unique labels\n",
    "print('List if labels ->',data['Conf Name'].unique())\n",
    "\n",
    "print('Crude way of getting nos. of unique labels', data['Conf Name'].nunique())"
   ]
  },
  {
   "cell_type": "code",
   "execution_count": 4,
   "metadata": {},
   "outputs": [
    {
     "name": "stdout",
     "output_type": "stream",
     "text": [
      "Total Nos. of Labels and its counts:\n",
      "ISCAS       7514\n",
      "INFOCOM     4481\n",
      "VLDB        3678\n",
      "WWW         3292\n",
      "SIGGRAPH    2678\n",
      "Name: Conf Name, dtype: int64\n"
     ]
    }
   ],
   "source": [
    "print('Total Nos. of Labels and its counts:')\n",
    "print(data['Conf Name'].value_counts())"
   ]
  },
  {
   "cell_type": "code",
   "execution_count": 5,
   "metadata": {},
   "outputs": [
    {
     "data": {
      "text/plain": [
       "[Text(0, 0.5, 'Count'), Text(0.5, 0, 'Classes')]"
      ]
     },
     "execution_count": 5,
     "metadata": {},
     "output_type": "execute_result"
    },
    {
     "data": {
      "image/png": "[encoded data removed]",
      "text/plain": [
       "<Figure size 432x288 with 1 Axes>"
      ]
     },
     "metadata": {
      "needs_background": "light"
     },
     "output_type": "display_data"
    }
   ],
   "source": [
    "barGraph = sns.countplot(data['Conf Name'])\n",
    "barGraph.set(xlabel = 'Classes', ylabel = 'Count')"
   ]
  },
  {
   "cell_type": "code",
   "execution_count": 6,
   "metadata": {},
   "outputs": [
    {
     "name": "stdout",
     "output_type": "stream",
     "text": [
      "Total nos of rows with null/Nan values across the \"Conf Name\" column 0\n"
     ]
    }
   ],
   "source": [
    "#Checking if any record has missing Values\n",
    "print('Total nos of rows with null/Nan values across the \"Conf Name\" column',data['Conf Name'].isnull().sum())"
   ]
  },
  {
   "cell_type": "markdown",
   "metadata": {},
   "source": [
    "### Data Preprocessing"
   ]
  },
  {
   "cell_type": "code",
   "execution_count": 7,
   "metadata": {},
   "outputs": [],
   "source": [
    "lemmatizer = WordNetLemmatizer()\n",
    "\n",
    "def preprocessing(sentence):\n",
    "    text = str(sentence)\n",
    "    text = text.lower()\n",
    "    cleanr = re.compile('<.*?>')\n",
    "    text = re.sub(cleanr, '', text)\n",
    "    text = re.sub('[0-9]+','',text)\n",
    "    tokenizer = RegexpTokenizer(r'\\w+')\n",
    "    tokens = tokenizer.tokenize(text)\n",
    "    filtered_words = [w for w in tokens if len(w) > 2 if not w in stopwords.words('english')]\n",
    "    lemma_words=[lemmatizer.lemmatize(w) for w in filtered_words]\n",
    "    return \" \".join(lemma_words)\n",
    "    "
   ]
  },
  {
   "cell_type": "code",
   "execution_count": 8,
   "metadata": {},
   "outputs": [
    {
     "data": {
      "text/html": [
       "<div>\n",
       "<style scoped>\n",
       "    .dataframe tbody tr th:only-of-type {\n",
       "        vertical-align: middle;\n",
       "    }\n",
       "\n",
       "    .dataframe tbody tr th {\n",
       "        vertical-align: top;\n",
       "    }\n",
       "\n",
       "    .dataframe thead th {\n",
       "        text-align: right;\n",
       "    }\n",
       "</style>\n",
       "<table border=\"1\" class=\"dataframe\">\n",
       "  <thead>\n",
       "    <tr style=\"text-align: right;\">\n",
       "      <th></th>\n",
       "      <th>Nos</th>\n",
       "      <th>Conf Name</th>\n",
       "      <th>Abstract</th>\n",
       "    </tr>\n",
       "  </thead>\n",
       "  <tbody>\n",
       "    <tr>\n",
       "      <th>0</th>\n",
       "      <td>0</td>\n",
       "      <td>ISCAS</td>\n",
       "      <td>scalable serial parallel multiplier hierarchic...</td>\n",
       "    </tr>\n",
       "    <tr>\n",
       "      <th>1</th>\n",
       "      <td>1</td>\n",
       "      <td>SIGGRAPH</td>\n",
       "      <td>plenoptic sampling</td>\n",
       "    </tr>\n",
       "    <tr>\n",
       "      <th>2</th>\n",
       "      <td>2</td>\n",
       "      <td>ISCAS</td>\n",
       "      <td>sensitivity uniformity micrometer cmos tempora...</td>\n",
       "    </tr>\n",
       "    <tr>\n",
       "      <th>3</th>\n",
       "      <td>3</td>\n",
       "      <td>WWW</td>\n",
       "      <td>survey web archive search architecture</td>\n",
       "    </tr>\n",
       "    <tr>\n",
       "      <th>4</th>\n",
       "      <td>4</td>\n",
       "      <td>ISCAS</td>\n",
       "      <td>understanding dynamic behavior wave cml divide...</td>\n",
       "    </tr>\n",
       "    <tr>\n",
       "      <th>5</th>\n",
       "      <td>5</td>\n",
       "      <td>SIGGRAPH</td>\n",
       "      <td>cosine lobe based relighting gradient illumina...</td>\n",
       "    </tr>\n",
       "    <tr>\n",
       "      <th>6</th>\n",
       "      <td>6</td>\n",
       "      <td>INFOCOM</td>\n",
       "      <td>dimensioning ob switch partial wavelength conv...</td>\n",
       "    </tr>\n",
       "    <tr>\n",
       "      <th>7</th>\n",
       "      <td>7</td>\n",
       "      <td>ISCAS</td>\n",
       "      <td>study identifibility blind source separation v...</td>\n",
       "    </tr>\n",
       "    <tr>\n",
       "      <th>8</th>\n",
       "      <td>8</td>\n",
       "      <td>ISCAS</td>\n",
       "      <td>signal perturbation free semi blind mrt mimo c...</td>\n",
       "    </tr>\n",
       "    <tr>\n",
       "      <th>9</th>\n",
       "      <td>9</td>\n",
       "      <td>ISCAS</td>\n",
       "      <td>low power band cmos low noise amplifier using ...</td>\n",
       "    </tr>\n",
       "  </tbody>\n",
       "</table>\n",
       "</div>"
      ],
      "text/plain": [
       "   Nos Conf Name                                           Abstract\n",
       "0    0     ISCAS  scalable serial parallel multiplier hierarchic...\n",
       "1    1  SIGGRAPH                                 plenoptic sampling\n",
       "2    2     ISCAS  sensitivity uniformity micrometer cmos tempora...\n",
       "3    3       WWW             survey web archive search architecture\n",
       "4    4     ISCAS  understanding dynamic behavior wave cml divide...\n",
       "5    5  SIGGRAPH  cosine lobe based relighting gradient illumina...\n",
       "6    6   INFOCOM  dimensioning ob switch partial wavelength conv...\n",
       "7    7     ISCAS  study identifibility blind source separation v...\n",
       "8    8     ISCAS  signal perturbation free semi blind mrt mimo c...\n",
       "9    9     ISCAS  low power band cmos low noise amplifier using ..."
      ]
     },
     "execution_count": 8,
     "metadata": {},
     "output_type": "execute_result"
    }
   ],
   "source": [
    "data['Abstract'] = data['Abstract'].apply(preprocessing)\n",
    "data.head(10)"
   ]
  },
  {
   "cell_type": "markdown",
   "metadata": {},
   "source": [
    "### Data Representation\n",
    "\n",
    "#### a) House Keeping work"
   ]
  },
  {
   "cell_type": "code",
   "execution_count": 44,
   "metadata": {},
   "outputs": [
    {
     "name": "stdout",
     "output_type": "stream",
     "text": [
      "Max Length -> 199\n",
      "Top 90% of the length is 82.0 .This will be the maximum length. :)\n"
     ]
    },
    {
     "data": {
      "image/png": "[encoded data removed]",
      "text/plain": [
       "<Figure size 432x288 with 1 Axes>"
      ]
     },
     "metadata": {
      "needs_background": "light"
     },
     "output_type": "display_data"
    }
   ],
   "source": [
    "#Calculating max length of the sentence.\n",
    "X = data['Abstract']\n",
    "Y = data['Conf Name']\n",
    "\n",
    "max_len = 0\n",
    "def calculate_maxlength(sentence):\n",
    "    global max_len\n",
    "    text = str(sentence)\n",
    "    length = len(text)\n",
    "    if(length > max_len):\n",
    "        max_len = length\n",
    "\n",
    "data['Abstract'].apply(calculate_maxlength)\n",
    "print('Max Length ->',max_len)\n",
    "\n",
    "#Another way to calculate max length\n",
    "data['len'] = data['Abstract'].apply(lambda s: len(s))\n",
    "data['len'].plot.hist(bins=10)\n",
    "max_len = data.len.quantile(0.9) #This gives top 90% of the length. Which came out to be 82. Max length is 199 but it is rare in dataset. Hence we're taking 90%.\n",
    "print('Top 90% of the length is',max_len,'.This will be the maximum length. :)')"
   ]
  },
  {
   "cell_type": "markdown",
   "metadata": {},
   "source": [
    "###### Splitting the dataset into train and test"
   ]
  },
  {
   "cell_type": "code",
   "execution_count": 94,
   "metadata": {},
   "outputs": [
    {
     "name": "stdout",
     "output_type": "stream",
     "text": [
      "Train shape :  (16232,)\n",
      "Test shape : (5411,)\n"
     ]
    }
   ],
   "source": [
    "train_X, test_X, train_Y, test_Y = train_test_split(data['Abstract'], data['Conf Name'], \n",
    "                                                    stratify=data['Conf Name'], test_size=0.25)\n",
    "\n",
    "print(\"Train shape : \", train_X.shape)\n",
    "print(\"Test shape :\", test_X.shape)"
   ]
  },
  {
   "cell_type": "code",
   "execution_count": 95,
   "metadata": {},
   "outputs": [
    {
     "data": {
      "text/plain": [
       "1403                               letter associate editor\n",
       "13117    model based multi component volume data labeli...\n",
       "9369     rainewsbook browsing worldwide multimodal news...\n",
       "1050        location aware peak value query sensor network\n",
       "19464    educating technophile artist experience highly...\n",
       "16292    ghz sub fully integrated pll clock recovery ap...\n",
       "12167          truce strategy post apocalyptic computation\n",
       "193                  scalable delivery stream query result\n",
       "19970    low delay wireless scheduling partial channel ...\n",
       "19629    high speed computational method fuzzy inferenc...\n",
       "Name: Abstract, dtype: object"
      ]
     },
     "execution_count": 95,
     "metadata": {},
     "output_type": "execute_result"
    }
   ],
   "source": [
    "train_X.head(10)"
   ]
  },
  {
   "cell_type": "markdown",
   "metadata": {},
   "source": [
    "#### a) Tokenizer\n",
    "We will use keras to tokenize the sentences/rows into words. <code>keras.preprocessing.text.Tokenizer</code> splits texts into tokens(words) while keeping only the words that occur most in the corpus."
   ]
  },
  {
   "cell_type": "code",
   "execution_count": 96,
   "metadata": {},
   "outputs": [
    {
     "name": "stdout",
     "output_type": "stream",
     "text": [
      "[[1067, 2226, 1348], [21, 2, 16, 490, 520, 5, 1426, 152], [5378, 534, 3301, 1349, 381, 1634, 1864, 420, 2826], [200, 73, 1068, 535, 20, 17, 1], [4016, 5379, 1635, 408, 436, 3302, 179, 219, 2485, 3303], [170, 359, 306, 116, 686, 201, 326, 13, 4, 135, 4017], [5380, 266, 1069, 5381, 235], [65, 445, 128, 20, 327], [8, 43, 7, 50, 821, 40, 205, 36], [19, 89, 822, 44, 795, 577, 3, 455, 3]]\n",
      "[[   0    0    0    0    0    0    0    0    0    0    0    0    0    0\n",
      "     0    0    0    0    0    0    0    0    0    0    0    0    0    0\n",
      "     0    0    0    0    0    0    0    0    0    0    0    0    0    0\n",
      "     0    0    0    0    0    0    0    0    0    0    0    0    0    0\n",
      "     0    0    0    0    0    0    0    0    0    0    0    0    0    0\n",
      "     0    0    0    0    0    0    0    0    0 1067 2226 1348]\n",
      " [   0    0    0    0    0    0    0    0    0    0    0    0    0    0\n",
      "     0    0    0    0    0    0    0    0    0    0    0    0    0    0\n",
      "     0    0    0    0    0    0    0    0    0    0    0    0    0    0\n",
      "     0    0    0    0    0    0    0    0    0    0    0    0    0    0\n",
      "     0    0    0    0    0    0    0    0    0    0    0    0    0    0\n",
      "     0    0    0    0   21    2   16  490  520    5 1426  152]\n",
      " [   0    0    0    0    0    0    0    0    0    0    0    0    0    0\n",
      "     0    0    0    0    0    0    0    0    0    0    0    0    0    0\n",
      "     0    0    0    0    0    0    0    0    0    0    0    0    0    0\n",
      "     0    0    0    0    0    0    0    0    0    0    0    0    0    0\n",
      "     0    0    0    0    0    0    0    0    0    0    0    0    0    0\n",
      "     0    0    0 5378  534 3301 1349  381 1634 1864  420 2826]\n",
      " [   0    0    0    0    0    0    0    0    0    0    0    0    0    0\n",
      "     0    0    0    0    0    0    0    0    0    0    0    0    0    0\n",
      "     0    0    0    0    0    0    0    0    0    0    0    0    0    0\n",
      "     0    0    0    0    0    0    0    0    0    0    0    0    0    0\n",
      "     0    0    0    0    0    0    0    0    0    0    0    0    0    0\n",
      "     0    0    0    0    0  200   73 1068  535   20   17    1]\n",
      " [   0    0    0    0    0    0    0    0    0    0    0    0    0    0\n",
      "     0    0    0    0    0    0    0    0    0    0    0    0    0    0\n",
      "     0    0    0    0    0    0    0    0    0    0    0    0    0    0\n",
      "     0    0    0    0    0    0    0    0    0    0    0    0    0    0\n",
      "     0    0    0    0    0    0    0    0    0    0    0    0    0    0\n",
      "     0    0 4016 5379 1635  408  436 3302  179  219 2485 3303]\n",
      " [   0    0    0    0    0    0    0    0    0    0    0    0    0    0\n",
      "     0    0    0    0    0    0    0    0    0    0    0    0    0    0\n",
      "     0    0    0    0    0    0    0    0    0    0    0    0    0    0\n",
      "     0    0    0    0    0    0    0    0    0    0    0    0    0    0\n",
      "     0    0    0    0    0    0    0    0    0    0    0    0    0    0\n",
      "     0  170  359  306  116  686  201  326   13    4  135 4017]\n",
      " [   0    0    0    0    0    0    0    0    0    0    0    0    0    0\n",
      "     0    0    0    0    0    0    0    0    0    0    0    0    0    0\n",
      "     0    0    0    0    0    0    0    0    0    0    0    0    0    0\n",
      "     0    0    0    0    0    0    0    0    0    0    0    0    0    0\n",
      "     0    0    0    0    0    0    0    0    0    0    0    0    0    0\n",
      "     0    0    0    0    0    0    0 5380  266 1069 5381  235]\n",
      " [   0    0    0    0    0    0    0    0    0    0    0    0    0    0\n",
      "     0    0    0    0    0    0    0    0    0    0    0    0    0    0\n",
      "     0    0    0    0    0    0    0    0    0    0    0    0    0    0\n",
      "     0    0    0    0    0    0    0    0    0    0    0    0    0    0\n",
      "     0    0    0    0    0    0    0    0    0    0    0    0    0    0\n",
      "     0    0    0    0    0    0    0   65  445  128   20  327]\n",
      " [   0    0    0    0    0    0    0    0    0    0    0    0    0    0\n",
      "     0    0    0    0    0    0    0    0    0    0    0    0    0    0\n",
      "     0    0    0    0    0    0    0    0    0    0    0    0    0    0\n",
      "     0    0    0    0    0    0    0    0    0    0    0    0    0    0\n",
      "     0    0    0    0    0    0    0    0    0    0    0    0    0    0\n",
      "     0    0    0    0    8   43    7   50  821   40  205   36]\n",
      " [   0    0    0    0    0    0    0    0    0    0    0    0    0    0\n",
      "     0    0    0    0    0    0    0    0    0    0    0    0    0    0\n",
      "     0    0    0    0    0    0    0    0    0    0    0    0    0    0\n",
      "     0    0    0    0    0    0    0    0    0    0    0    0    0    0\n",
      "     0    0    0    0    0    0    0    0    0    0    0    0    0    0\n",
      "     0    0    0   19   89  822   44  795  577    3  455    3]]\n"
     ]
    }
   ],
   "source": [
    "#Tokenize the sentences\n",
    "tokenizer = Tokenizer()\n",
    "tokenizer.fit_on_texts(list(train_X))\n",
    "train_X = tokenizer.texts_to_sequences(train_X)\n",
    "test_X = tokenizer.texts_to_sequences(test_X)\n",
    "\n",
    "print(train_X[0:10])\n",
    "\n",
    "#Pad the sentences\n",
    "train_X = pad_sequences(train_X, maxlen=int(max_len))\n",
    "test_X = pad_sequences(test_X, maxlen=int(max_len))\n",
    "print(train_X[0:10])"
   ]
  },
  {
   "cell_type": "markdown",
   "metadata": {},
   "source": [
    "#### b) Encoding the Labels"
   ]
  },
  {
   "cell_type": "code",
   "execution_count": 97,
   "metadata": {},
   "outputs": [
    {
     "name": "stdout",
     "output_type": "stream",
     "text": [
      "Printing the label from train_Y list [3 2 4 0 2 1 2 3 0 1]\n",
      "Printing the labels overall ['INFOCOM' 'ISCAS' 'SIGGRAPH' 'VLDB' 'WWW']\n"
     ]
    }
   ],
   "source": [
    "from sklearn.preprocessing import LabelEncoder\n",
    "labelEncoder = LabelEncoder()\n",
    "train_Y = labelEncoder.fit_transform(train_Y.values)\n",
    "test_Y  = labelEncoder.fit_transform(test_Y.values)\n",
    "\n",
    "#Printing the Labels/classes from the dataset\n",
    "print('Printing the label from train_Y list',train_Y[0:10])\n",
    "\n",
    "#Printing the labels/classes\n",
    "print('Printing the labels overall',labelEncoder.classes_)"
   ]
  },
  {
   "cell_type": "code",
   "execution_count": 93,
   "metadata": {},
   "outputs": [
    {
     "name": "stdout",
     "output_type": "stream",
     "text": [
      "[1 2 1 ... 1 1 2]\n"
     ]
    }
   ],
   "source": []
  },
  {
   "cell_type": "code",
   "execution_count": null,
   "metadata": {},
   "outputs": [],
   "source": []
  }
 ],
 "metadata": {
  "kernelspec": {
   "display_name": "Python 3",
   "language": "python",
   "name": "python3"
  },
  "language_info": {
   "codemirror_mode": {
    "name": "ipython",
    "version": 3
   },
   "file_extension": ".py",
   "mimetype": "text/x-python",
   "name": "python",
   "nbconvert_exporter": "python",
   "pygments_lexer": "ipython3",
   "version": "3.7.6"
  }
 },
 "nbformat": 4,
 "nbformat_minor": 4
}
