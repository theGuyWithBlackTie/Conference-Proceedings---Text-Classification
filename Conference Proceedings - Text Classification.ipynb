{
 "cells": [
  {
   "cell_type": "markdown",
   "metadata": {},
   "source": [
    "## Import Section"
   ]
  },
  {
   "cell_type": "code",
   "execution_count": 55,
   "metadata": {},
   "outputs": [],
   "source": [
    "import torch\n",
    "import pandas as pd\n",
    "\n",
    "import nltk\n",
    "from nltk.tokenize import RegexpTokenizer\n",
    "from nltk.stem import WordNetLemmatizer\n",
    "from nltk.corpus import stopwords \n",
    "\n",
    "import seaborn as sns\n",
    "\n",
    "import re\n",
    "\n",
    "pd.set_option('display.max_columns', None)"
   ]
  },
  {
   "cell_type": "markdown",
   "metadata": {},
   "source": [
    "### Importing Dataset"
   ]
  },
  {
   "cell_type": "code",
   "execution_count": 47,
   "metadata": {},
   "outputs": [
    {
     "data": {
      "text/html": [
       "<div>\n",
       "<style scoped>\n",
       "    .dataframe tbody tr th:only-of-type {\n",
       "        vertical-align: middle;\n",
       "    }\n",
       "\n",
       "    .dataframe tbody tr th {\n",
       "        vertical-align: top;\n",
       "    }\n",
       "\n",
       "    .dataframe thead th {\n",
       "        text-align: right;\n",
       "    }\n",
       "</style>\n",
       "<table border=\"1\" class=\"dataframe\">\n",
       "  <thead>\n",
       "    <tr style=\"text-align: right;\">\n",
       "      <th></th>\n",
       "      <th>Nos</th>\n",
       "      <th>Conf Name</th>\n",
       "      <th>Abstract</th>\n",
       "    </tr>\n",
       "  </thead>\n",
       "  <tbody>\n",
       "    <tr>\n",
       "      <th>0</th>\n",
       "      <td>0</td>\n",
       "      <td>ISCAS</td>\n",
       "      <td>Scalable Serial-parallel Multiplier over GF(2m...</td>\n",
       "    </tr>\n",
       "    <tr>\n",
       "      <th>1</th>\n",
       "      <td>1</td>\n",
       "      <td>SIGGRAPH</td>\n",
       "      <td>Plenoptic sampling.</td>\n",
       "    </tr>\n",
       "    <tr>\n",
       "      <th>2</th>\n",
       "      <td>2</td>\n",
       "      <td>ISCAS</td>\n",
       "      <td>Sensitivity and uniformity of a 0.18micrometer...</td>\n",
       "    </tr>\n",
       "    <tr>\n",
       "      <th>3</th>\n",
       "      <td>3</td>\n",
       "      <td>WWW</td>\n",
       "      <td>A survey of web archive search architectures.</td>\n",
       "    </tr>\n",
       "    <tr>\n",
       "      <th>4</th>\n",
       "      <td>4</td>\n",
       "      <td>ISCAS</td>\n",
       "      <td>Understanding dynamic behavior of mm-wave CML ...</td>\n",
       "    </tr>\n",
       "    <tr>\n",
       "      <th>5</th>\n",
       "      <td>5</td>\n",
       "      <td>SIGGRAPH</td>\n",
       "      <td>Cosine lobe based relighting from gradient ill...</td>\n",
       "    </tr>\n",
       "    <tr>\n",
       "      <th>6</th>\n",
       "      <td>6</td>\n",
       "      <td>INFOCOM</td>\n",
       "      <td>Dimensioning an OBS Switch with Partial Wavele...</td>\n",
       "    </tr>\n",
       "    <tr>\n",
       "      <th>7</th>\n",
       "      <td>7</td>\n",
       "      <td>ISCAS</td>\n",
       "      <td>A study of identifibility for blind source sep...</td>\n",
       "    </tr>\n",
       "    <tr>\n",
       "      <th>8</th>\n",
       "      <td>8</td>\n",
       "      <td>ISCAS</td>\n",
       "      <td>A signal perturbation free semi-blind MRT MIMO...</td>\n",
       "    </tr>\n",
       "    <tr>\n",
       "      <th>9</th>\n",
       "      <td>9</td>\n",
       "      <td>ISCAS</td>\n",
       "      <td>A low-power V-band CMOS low-noise amplifier us...</td>\n",
       "    </tr>\n",
       "  </tbody>\n",
       "</table>\n",
       "</div>"
      ],
      "text/plain": [
       "   Nos Conf Name                                           Abstract\n",
       "0    0     ISCAS  Scalable Serial-parallel Multiplier over GF(2m...\n",
       "1    1  SIGGRAPH                                Plenoptic sampling.\n",
       "2    2     ISCAS  Sensitivity and uniformity of a 0.18micrometer...\n",
       "3    3       WWW      A survey of web archive search architectures.\n",
       "4    4     ISCAS  Understanding dynamic behavior of mm-wave CML ...\n",
       "5    5  SIGGRAPH  Cosine lobe based relighting from gradient ill...\n",
       "6    6   INFOCOM  Dimensioning an OBS Switch with Partial Wavele...\n",
       "7    7     ISCAS  A study of identifibility for blind source sep...\n",
       "8    8     ISCAS  A signal perturbation free semi-blind MRT MIMO...\n",
       "9    9     ISCAS  A low-power V-band CMOS low-noise amplifier us..."
      ]
     },
     "execution_count": 47,
     "metadata": {},
     "output_type": "execute_result"
    }
   ],
   "source": [
    "columnList = ['Nos','Conf Name','Abstract']\n",
    "data = pd.read_csv(\"DBLPTrainset.txt\", names=columnList, sep=\"\\t\")\n",
    "data.head(10)"
   ]
  },
  {
   "cell_type": "markdown",
   "metadata": {},
   "source": [
    "### Data Exploration"
   ]
  },
  {
   "cell_type": "code",
   "execution_count": 48,
   "metadata": {},
   "outputs": [
    {
     "name": "stdout",
     "output_type": "stream",
     "text": [
      "List if labels -> ['ISCAS' 'SIGGRAPH' 'WWW' 'INFOCOM' 'VLDB']\n",
      "Crude way of getting nos. of unique labels 5\n"
     ]
    }
   ],
   "source": [
    "#Listing out unique labels\n",
    "print('List if labels ->',data['Conf Name'].unique())\n",
    "\n",
    "print('Crude way of getting nos. of unique labels', data['Conf Name'].nunique())"
   ]
  },
  {
   "cell_type": "code",
   "execution_count": 49,
   "metadata": {},
   "outputs": [
    {
     "name": "stdout",
     "output_type": "stream",
     "text": [
      "Total Nos. of Labels and its counts:\n",
      "ISCAS       7514\n",
      "INFOCOM     4481\n",
      "VLDB        3678\n",
      "WWW         3292\n",
      "SIGGRAPH    2678\n",
      "Name: Conf Name, dtype: int64\n"
     ]
    }
   ],
   "source": [
    "print('Total Nos. of Labels and its counts:')\n",
    "print(data['Conf Name'].value_counts())"
   ]
  },
  {
   "cell_type": "code",
   "execution_count": 50,
   "metadata": {},
   "outputs": [
    {
     "data": {
      "text/plain": [
       "[Text(0, 0.5, 'Count'), Text(0.5, 0, 'Classes')]"
      ]
     },
     "execution_count": 50,
     "metadata": {},
     "output_type": "execute_result"
    },
    {
     "data": {
      "image/png": "[encoded data removed]",
      "text/plain": [
       "<Figure size 432x288 with 1 Axes>"
      ]
     },
     "metadata": {
      "needs_background": "light"
     },
     "output_type": "display_data"
    }
   ],
   "source": [
    "barGraph = sns.countplot(data['Conf Name'])\n",
    "barGraph.set(xlabel = 'Classes', ylabel = 'Count')"
   ]
  },
  {
   "cell_type": "code",
   "execution_count": 51,
   "metadata": {},
   "outputs": [
    {
     "name": "stdout",
     "output_type": "stream",
     "text": [
      "Total nos of rows with null/Nan values across the \"Conf Name\" column 0\n"
     ]
    }
   ],
   "source": [
    "#Checking if any record has missing Values\n",
    "print('Total nos of rows with null/Nan values across the \"Conf Name\" column',data['Conf Name'].isnull().sum())"
   ]
  },
  {
   "cell_type": "markdown",
   "metadata": {},
   "source": [
    "### Data Preprocessing"
   ]
  },
  {
   "cell_type": "code",
   "execution_count": 44,
   "metadata": {},
   "outputs": [],
   "source": [
    "lemmatizer = WordNetLemmatizer()\n",
    "\n",
    "def preprocessing(sentence):\n",
    "    text = str(sentence)\n",
    "    text = text.lower()\n",
    "    cleanr = re.compile('<.*?>')\n",
    "    text = re.sub(cleanr, '', text)\n",
    "    text = re.sub('[0-9]+','',text)\n",
    "    tokenizer = RegexpTokenizer(r'\\w+')\n",
    "    tokens = tokenizer.tokenize(text)\n",
    "    filtered_words = [w for w in tokens if len(w) > 2 if not w in stopwords.words('english')]\n",
    "    lemma_words=[lemmatizer.lemmatize(w) for w in filtered_words]\n",
    "    return \" \".join(lemma_words)\n",
    "    "
   ]
  },
  {
   "cell_type": "code",
   "execution_count": 57,
   "metadata": {},
   "outputs": [
    {
     "data": {
      "text/html": [
       "<div>\n",
       "<style scoped>\n",
       "    .dataframe tbody tr th:only-of-type {\n",
       "        vertical-align: middle;\n",
       "    }\n",
       "\n",
       "    .dataframe tbody tr th {\n",
       "        vertical-align: top;\n",
       "    }\n",
       "\n",
       "    .dataframe thead th {\n",
       "        text-align: right;\n",
       "    }\n",
       "</style>\n",
       "<table border=\"1\" class=\"dataframe\">\n",
       "  <thead>\n",
       "    <tr style=\"text-align: right;\">\n",
       "      <th></th>\n",
       "      <th>Nos</th>\n",
       "      <th>Conf Name</th>\n",
       "      <th>Abstract</th>\n",
       "    </tr>\n",
       "  </thead>\n",
       "  <tbody>\n",
       "    <tr>\n",
       "      <th>0</th>\n",
       "      <td>0</td>\n",
       "      <td>ISCAS</td>\n",
       "      <td>scalable serial parallel multiplier hierarchic...</td>\n",
       "    </tr>\n",
       "    <tr>\n",
       "      <th>1</th>\n",
       "      <td>1</td>\n",
       "      <td>SIGGRAPH</td>\n",
       "      <td>plenoptic sampling</td>\n",
       "    </tr>\n",
       "    <tr>\n",
       "      <th>2</th>\n",
       "      <td>2</td>\n",
       "      <td>ISCAS</td>\n",
       "      <td>sensitivity uniformity micrometer cmos tempora...</td>\n",
       "    </tr>\n",
       "    <tr>\n",
       "      <th>3</th>\n",
       "      <td>3</td>\n",
       "      <td>WWW</td>\n",
       "      <td>survey web archive search architecture</td>\n",
       "    </tr>\n",
       "    <tr>\n",
       "      <th>4</th>\n",
       "      <td>4</td>\n",
       "      <td>ISCAS</td>\n",
       "      <td>understanding dynamic behavior wave cml divide...</td>\n",
       "    </tr>\n",
       "    <tr>\n",
       "      <th>5</th>\n",
       "      <td>5</td>\n",
       "      <td>SIGGRAPH</td>\n",
       "      <td>cosine lobe based relighting gradient illumina...</td>\n",
       "    </tr>\n",
       "    <tr>\n",
       "      <th>6</th>\n",
       "      <td>6</td>\n",
       "      <td>INFOCOM</td>\n",
       "      <td>dimensioning switch partial wavelength convers...</td>\n",
       "    </tr>\n",
       "    <tr>\n",
       "      <th>7</th>\n",
       "      <td>7</td>\n",
       "      <td>ISCAS</td>\n",
       "      <td>study identifibility blind source separation v...</td>\n",
       "    </tr>\n",
       "    <tr>\n",
       "      <th>8</th>\n",
       "      <td>8</td>\n",
       "      <td>ISCAS</td>\n",
       "      <td>signal perturbation free semi blind mrt mimo c...</td>\n",
       "    </tr>\n",
       "    <tr>\n",
       "      <th>9</th>\n",
       "      <td>9</td>\n",
       "      <td>ISCAS</td>\n",
       "      <td>low power band cmos low noise amplifier using ...</td>\n",
       "    </tr>\n",
       "  </tbody>\n",
       "</table>\n",
       "</div>"
      ],
      "text/plain": [
       "   Nos Conf Name                                           Abstract\n",
       "0    0     ISCAS  scalable serial parallel multiplier hierarchic...\n",
       "1    1  SIGGRAPH                                 plenoptic sampling\n",
       "2    2     ISCAS  sensitivity uniformity micrometer cmos tempora...\n",
       "3    3       WWW             survey web archive search architecture\n",
       "4    4     ISCAS  understanding dynamic behavior wave cml divide...\n",
       "5    5  SIGGRAPH  cosine lobe based relighting gradient illumina...\n",
       "6    6   INFOCOM  dimensioning switch partial wavelength convers...\n",
       "7    7     ISCAS  study identifibility blind source separation v...\n",
       "8    8     ISCAS  signal perturbation free semi blind mrt mimo c...\n",
       "9    9     ISCAS  low power band cmos low noise amplifier using ..."
      ]
     },
     "execution_count": 57,
     "metadata": {},
     "output_type": "execute_result"
    }
   ],
   "source": [
    "data['Abstract'] = data['Abstract'].apply(preprocessing)\n",
    "data.head(10)"
   ]
  },
  {
   "cell_type": "code",
   "execution_count": 56,
   "metadata": {},
   "outputs": [
    {
     "data": {
      "text/html": [
       "<div>\n",
       "<style scoped>\n",
       "    .dataframe tbody tr th:only-of-type {\n",
       "        vertical-align: middle;\n",
       "    }\n",
       "\n",
       "    .dataframe tbody tr th {\n",
       "        vertical-align: top;\n",
       "    }\n",
       "\n",
       "    .dataframe thead th {\n",
       "        text-align: right;\n",
       "    }\n",
       "</style>\n",
       "<table border=\"1\" class=\"dataframe\">\n",
       "  <thead>\n",
       "    <tr style=\"text-align: right;\">\n",
       "      <th></th>\n",
       "      <th>Nos</th>\n",
       "      <th>Conf Name</th>\n",
       "      <th>Abstract</th>\n",
       "    </tr>\n",
       "  </thead>\n",
       "  <tbody>\n",
       "    <tr>\n",
       "      <th>0</th>\n",
       "      <td>0</td>\n",
       "      <td>ISCAS</td>\n",
       "      <td>scalable serial parallel multiplier hierarchic...</td>\n",
       "    </tr>\n",
       "    <tr>\n",
       "      <th>1</th>\n",
       "      <td>1</td>\n",
       "      <td>SIGGRAPH</td>\n",
       "      <td>plenoptic sampling</td>\n",
       "    </tr>\n",
       "    <tr>\n",
       "      <th>2</th>\n",
       "      <td>2</td>\n",
       "      <td>ISCAS</td>\n",
       "      <td>sensitivity uniformity micrometer cmos tempora...</td>\n",
       "    </tr>\n",
       "    <tr>\n",
       "      <th>3</th>\n",
       "      <td>3</td>\n",
       "      <td>WWW</td>\n",
       "      <td>survey web archive search architecture</td>\n",
       "    </tr>\n",
       "    <tr>\n",
       "      <th>4</th>\n",
       "      <td>4</td>\n",
       "      <td>ISCAS</td>\n",
       "      <td>understanding dynamic behavior wave cml divide...</td>\n",
       "    </tr>\n",
       "    <tr>\n",
       "      <th>5</th>\n",
       "      <td>5</td>\n",
       "      <td>SIGGRAPH</td>\n",
       "      <td>cosine lobe based relighting gradient illumina...</td>\n",
       "    </tr>\n",
       "    <tr>\n",
       "      <th>6</th>\n",
       "      <td>6</td>\n",
       "      <td>INFOCOM</td>\n",
       "      <td>dimensioning ob switch partial wavelength conv...</td>\n",
       "    </tr>\n",
       "    <tr>\n",
       "      <th>7</th>\n",
       "      <td>7</td>\n",
       "      <td>ISCAS</td>\n",
       "      <td>study identifibility blind source separation v...</td>\n",
       "    </tr>\n",
       "    <tr>\n",
       "      <th>8</th>\n",
       "      <td>8</td>\n",
       "      <td>ISCAS</td>\n",
       "      <td>signal perturbation free semi blind mrt mimo c...</td>\n",
       "    </tr>\n",
       "    <tr>\n",
       "      <th>9</th>\n",
       "      <td>9</td>\n",
       "      <td>ISCAS</td>\n",
       "      <td>low power band cmos low noise amplifier using ...</td>\n",
       "    </tr>\n",
       "  </tbody>\n",
       "</table>\n",
       "</div>"
      ],
      "text/plain": [
       "   Nos Conf Name                                           Abstract\n",
       "0    0     ISCAS  scalable serial parallel multiplier hierarchic...\n",
       "1    1  SIGGRAPH                                 plenoptic sampling\n",
       "2    2     ISCAS  sensitivity uniformity micrometer cmos tempora...\n",
       "3    3       WWW             survey web archive search architecture\n",
       "4    4     ISCAS  understanding dynamic behavior wave cml divide...\n",
       "5    5  SIGGRAPH  cosine lobe based relighting gradient illumina...\n",
       "6    6   INFOCOM  dimensioning ob switch partial wavelength conv...\n",
       "7    7     ISCAS  study identifibility blind source separation v...\n",
       "8    8     ISCAS  signal perturbation free semi blind mrt mimo c...\n",
       "9    9     ISCAS  low power band cmos low noise amplifier using ..."
      ]
     },
     "execution_count": 56,
     "metadata": {},
     "output_type": "execute_result"
    }
   ],
   "source": []
  },
  {
   "cell_type": "code",
   "execution_count": null,
   "metadata": {},
   "outputs": [],
   "source": [
    "https://towardsdatascience.com/multiclass-text-classification-using-lstm-in-pytorch-eac56baed8df"
   ]
  }
 ],
 "metadata": {
  "kernelspec": {
   "display_name": "Python 3",
   "language": "python",
   "name": "python3"
  },
  "language_info": {
   "codemirror_mode": {
    "name": "ipython",
    "version": 3
   },
   "file_extension": ".py",
   "mimetype": "text/x-python",
   "name": "python",
   "nbconvert_exporter": "python",
   "pygments_lexer": "ipython3",
   "version": "3.7.6"
  }
 },
 "nbformat": 4,
 "nbformat_minor": 4
}
